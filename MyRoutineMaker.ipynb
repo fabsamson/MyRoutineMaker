{
 "cells": [
  {
   "cell_type": "markdown",
   "metadata": {},
   "source": [
    "### My Routine Maker"
   ]
  },
  {
   "cell_type": "markdown",
   "metadata": {},
   "source": [
    "#### Import"
   ]
  },
  {
   "cell_type": "code",
   "execution_count": 1,
   "metadata": {},
   "outputs": [],
   "source": [
    "from Libs.Activite import Activite\n",
    "from Libs.Agenda import Agenda\n",
    "from Libs.Jour import Jour\n",
    "from Libs.Moments import Moments\n"
   ]
  },
  {
   "cell_type": "markdown",
   "metadata": {},
   "source": [
    "#### Choix des jours"
   ]
  },
  {
   "cell_type": "code",
   "execution_count": 2,
   "metadata": {},
   "outputs": [],
   "source": [
    "default_moments = [moment for moment in Moments]\n",
    "lundi = Jour(\"Lundi\", default_moments)\n",
    "mardi = Jour(\"Mardi\", default_moments)\n",
    "mercredi = Jour(\"Mercredi\", default_moments)\n",
    "jeudi = Jour(\"Jeudi\", default_moments)\n",
    "vendredi = Jour(\"Vendredi\", default_moments)\n",
    "\n",
    "days = [lundi, mardi, mercredi, jeudi, vendredi]"
   ]
  },
  {
   "cell_type": "markdown",
   "metadata": {},
   "source": [
    "#### Choix des activites"
   ]
  },
  {
   "cell_type": "code",
   "execution_count": 3,
   "metadata": {},
   "outputs": [],
   "source": [
    "Activite1 = Activite(\"Lecture Obligatoire\",[Moments.DebutAprem, Moments.FinMatin], True, False)\n",
    "Activite2 = Activite(\"Anime\",[Moments.DebutMatin, Moments.Lever], False, False)\n",
    "Activite3 = Activite(\"Jeux\",[Moments.Soiree, Moments.Midi], False, False)\n",
    "Activite4 = Activite(\"Sports\",default_moments, False, False)\n",
    "Activite5 = Activite(\"Sports\",default_moments, False, True)\n",
    "Activite6 = Activite(\"Famille\",default_moments, False, False)\n",
    "Activite7 = Activite(\"Cuisine\",default_moments, False, False)\n",
    "Activite8 = Activite(\"Faire des Listes\",default_moments, False, False)\n",
    "Activite9 = Activite(\"Recherche Cuisine\",default_moments, False, False)\n",
    "Activite10 = Activite(\"Film\",default_moments, False, False)\n",
    "\n",
    "liste_activite = [Activite1, Activite2, Activite3, Activite4, Activite5, Activite6, Activite7, Activite8, Activite9, Activite10]"
   ]
  },
  {
   "cell_type": "markdown",
   "metadata": {},
   "source": [
    "#### Set up Agenda"
   ]
  },
  {
   "cell_type": "code",
   "execution_count": 5,
   "metadata": {},
   "outputs": [
    {
     "ename": "ValueError",
     "evalue": "empty range for randrange()",
     "output_type": "error",
     "traceback": [
      "\u001b[1;31m---------------------------------------------------------------------------\u001b[0m",
      "\u001b[1;31mValueError\u001b[0m                                Traceback (most recent call last)",
      "\u001b[1;32m~\\AppData\\Local\\Temp/ipykernel_15996/2213343936.py\u001b[0m in \u001b[0;36m<module>\u001b[1;34m\u001b[0m\n\u001b[0;32m      1\u001b[0m \u001b[0magenda\u001b[0m \u001b[1;33m=\u001b[0m \u001b[0mAgenda\u001b[0m\u001b[1;33m(\u001b[0m\u001b[0mdays\u001b[0m\u001b[1;33m,\u001b[0m \u001b[0mliste_activite\u001b[0m\u001b[1;33m,\u001b[0m \u001b[1;36m7\u001b[0m\u001b[1;33m)\u001b[0m\u001b[1;33m\u001b[0m\u001b[1;33m\u001b[0m\u001b[0m\n\u001b[1;32m----> 2\u001b[1;33m \u001b[0magenda\u001b[0m\u001b[1;33m.\u001b[0m\u001b[0mrun_schedule\u001b[0m\u001b[1;33m(\u001b[0m\u001b[1;33m)\u001b[0m\u001b[1;33m\u001b[0m\u001b[1;33m\u001b[0m\u001b[0m\n\u001b[0m",
      "\u001b[1;32m\\\\ad-its.credit-agricole.fr\\dfs\\HOMEDIRS_INTL\\Amundi_Japan\\samson\\Perso\\MyRoutineMaker\\Libs\\Agenda.py\u001b[0m in \u001b[0;36mrun_schedule\u001b[1;34m(self)\u001b[0m\n\u001b[0;32m     32\u001b[0m             \u001b[0mnb_iter\u001b[0m \u001b[1;33m+=\u001b[0m \u001b[1;36m1\u001b[0m\u001b[1;33m\u001b[0m\u001b[1;33m\u001b[0m\u001b[0m\n\u001b[0;32m     33\u001b[0m             \u001b[0mjour\u001b[0m \u001b[1;33m=\u001b[0m \u001b[0mself\u001b[0m\u001b[1;33m.\u001b[0m\u001b[0mselect_jour\u001b[0m\u001b[1;33m(\u001b[0m\u001b[1;33m)\u001b[0m\u001b[1;33m\u001b[0m\u001b[1;33m\u001b[0m\u001b[0m\n\u001b[1;32m---> 34\u001b[1;33m             \u001b[0mrandom_index\u001b[0m \u001b[1;33m=\u001b[0m \u001b[0mrandom\u001b[0m\u001b[1;33m.\u001b[0m\u001b[0mrandrange\u001b[0m\u001b[1;33m(\u001b[0m\u001b[0mlen\u001b[0m\u001b[1;33m(\u001b[0m\u001b[0mself\u001b[0m\u001b[1;33m.\u001b[0m\u001b[0mActivites\u001b[0m\u001b[1;33m)\u001b[0m\u001b[1;33m)\u001b[0m\u001b[1;33m\u001b[0m\u001b[1;33m\u001b[0m\u001b[0m\n\u001b[0m\u001b[0;32m     35\u001b[0m             \u001b[0mactivite\u001b[0m \u001b[1;33m=\u001b[0m \u001b[0mself\u001b[0m\u001b[1;33m.\u001b[0m\u001b[0mActivites\u001b[0m\u001b[1;33m.\u001b[0m\u001b[0mpop\u001b[0m\u001b[1;33m(\u001b[0m\u001b[0mrandom_index\u001b[0m\u001b[1;33m)\u001b[0m\u001b[1;33m\u001b[0m\u001b[1;33m\u001b[0m\u001b[0m\n\u001b[0;32m     36\u001b[0m             \u001b[0mmoment\u001b[0m \u001b[1;33m=\u001b[0m \u001b[0mrandom\u001b[0m\u001b[1;33m.\u001b[0m\u001b[0mchoice\u001b[0m\u001b[1;33m(\u001b[0m\u001b[0mactivite\u001b[0m\u001b[1;33m.\u001b[0m\u001b[0mMoments\u001b[0m\u001b[1;33m)\u001b[0m\u001b[1;33m\u001b[0m\u001b[1;33m\u001b[0m\u001b[0m\n",
      "\u001b[1;32mc:\\ProgramData\\Anaconda3\\lib\\random.py\u001b[0m in \u001b[0;36mrandrange\u001b[1;34m(self, start, stop, step)\u001b[0m\n\u001b[0;32m    304\u001b[0m             \u001b[1;32mif\u001b[0m \u001b[0mistart\u001b[0m \u001b[1;33m>\u001b[0m \u001b[1;36m0\u001b[0m\u001b[1;33m:\u001b[0m\u001b[1;33m\u001b[0m\u001b[1;33m\u001b[0m\u001b[0m\n\u001b[0;32m    305\u001b[0m                 \u001b[1;32mreturn\u001b[0m \u001b[0mself\u001b[0m\u001b[1;33m.\u001b[0m\u001b[0m_randbelow\u001b[0m\u001b[1;33m(\u001b[0m\u001b[0mistart\u001b[0m\u001b[1;33m)\u001b[0m\u001b[1;33m\u001b[0m\u001b[1;33m\u001b[0m\u001b[0m\n\u001b[1;32m--> 306\u001b[1;33m             \u001b[1;32mraise\u001b[0m \u001b[0mValueError\u001b[0m\u001b[1;33m(\u001b[0m\u001b[1;34m\"empty range for randrange()\"\u001b[0m\u001b[1;33m)\u001b[0m\u001b[1;33m\u001b[0m\u001b[1;33m\u001b[0m\u001b[0m\n\u001b[0m\u001b[0;32m    307\u001b[0m \u001b[1;33m\u001b[0m\u001b[0m\n\u001b[0;32m    308\u001b[0m         \u001b[1;31m# stop argument supplied.\u001b[0m\u001b[1;33m\u001b[0m\u001b[1;33m\u001b[0m\u001b[0m\n",
      "\u001b[1;31mValueError\u001b[0m: empty range for randrange()"
     ]
    }
   ],
   "source": [
    "agenda = Agenda(days, liste_activite, 7)\n",
    "agenda.run_schedule()"
   ]
  },
  {
   "cell_type": "code",
   "execution_count": 5,
   "metadata": {},
   "outputs": [
    {
     "data": {
      "text/plain": [
       "{(<Libs.Jour.Jour at 0x21667079370>,\n",
       "  <Moments.FinMatin: 4>): <Libs.Activite.Activite at 0x21667075520>,\n",
       " (<Libs.Jour.Jour at 0x21667079400>,\n",
       "  <Moments.Midi: 5>): <Libs.Activite.Activite at 0x21667075d90>,\n",
       " (<Libs.Jour.Jour at 0x21667079370>,\n",
       "  <Moments.Midi: 5>): <Libs.Activite.Activite at 0x21667075640>,\n",
       " (<Libs.Jour.Jour at 0x21667079310>,\n",
       "  <Moments.Lever: 1>): <Libs.Activite.Activite at 0x21667075cd0>,\n",
       " (<Libs.Jour.Jour at 0x21667079400>,\n",
       "  <Moments.Coucher: 12>): <Libs.Activite.Activite at 0x216670755e0>,\n",
       " (<Libs.Jour.Jour at 0x21667079370>,\n",
       "  <Moments.Coucher: 12>): <Libs.Activite.Activite at 0x216670754c0>,\n",
       " (<Libs.Jour.Jour at 0x21667079370>,\n",
       "  <Moments.Soiree: 11>): <Libs.Activite.Activite at 0x21667075580>}"
      ]
     },
     "execution_count": 5,
     "metadata": {},
     "output_type": "execute_result"
    }
   ],
   "source": [
    "agenda.agenda"
   ]
  }
 ],
 "metadata": {
  "kernelspec": {
   "display_name": "Python 3.9.7 ('base')",
   "language": "python",
   "name": "python3"
  },
  "language_info": {
   "codemirror_mode": {
    "name": "ipython",
    "version": 3
   },
   "file_extension": ".py",
   "mimetype": "text/x-python",
   "name": "python",
   "nbconvert_exporter": "python",
   "pygments_lexer": "ipython3",
   "version": "3.9.7"
  },
  "orig_nbformat": 4,
  "vscode": {
   "interpreter": {
    "hash": "ad2bdc8ecc057115af97d19610ffacc2b4e99fae6737bb82f5d7fb13d2f2c186"
   }
  }
 },
 "nbformat": 4,
 "nbformat_minor": 2
}
